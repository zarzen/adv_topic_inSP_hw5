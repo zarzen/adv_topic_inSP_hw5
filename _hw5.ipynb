{
 "cells": [
  {
   "cell_type": "markdown",
   "metadata": {},
   "source": [
    "# Homework 5: Adversarial Sample Generation and Defense\n",
    "Designed for EN.601.743\n",
    "\n",
    "Due date: 02-21-2019 11:59\n",
    "\n",
    "Submit to email [zzhen1@jhu.edu](mailto:zzhen1@jhu.edu)\n"
   ]
  },
  {
   "cell_type": "markdown",
   "metadata": {},
   "source": [
    "## Submission instructions\n",
    "All code snippets and writeup should be placed in this file. After finishing work, please change the file name with format `<your-name>_hw5.ipynb` and send via email with the subject as \"*Adv Topic in Security and Privacy Homework 5*\". Thanks! (No need to include `model` file or `data` files)"
   ]
  },
  {
   "cell_type": "markdown",
   "metadata": {},
   "source": [
    "## Structure of this homework\n",
    "The homework consist of two sections, implementation (15 points) and writeup (5 points).\n",
    "### Implementation\n",
    "Implementation has been divided into four parts: \n",
    "0. open the ipython notebook (1 point)\n",
    "1. print the image you choose for adversarial attack (2 points)\n",
    "2. complete the adversarial attacking procedure with given attacking function (5 points)\n",
    "3. try different parameter for the attack (2 points)\n",
    "4. implement feature sequeezing function (5 points)\n",
    "\n",
    "**Note**: `# <your implementation>` has been used to mark the implementation place.\n",
    "\n",
    "Detailed explainations are given at each code snippet you need to complete. Implementations are using `python` and `pytorch`. If you need instructions for `pytorch` installation please follow [here](https://pytorch.org/get-started/locally/). If you need further assitant, feel free to contact [me](mailto:zhen@jh.edu). Code snippets of adversarial attacking parts are mainly borrow from [pytorch-adversarial-example-generation](https://pytorch.org/tutorials/beginner/fgsm_tutorial.html), so you can take it as a reference. But please remember things a little different here that we want to attack on one sample until we success. \n",
    "\n",
    "### Writeup\n",
    "(Write your thoughts at last input box)\n",
    "\n",
    "How machine learning will change the field you are working on? And how adversarial machine learning can affect your research area?\n"
   ]
  },
  {
   "cell_type": "markdown",
   "metadata": {},
   "source": [
    "# ------------------ splitting --------------------"
   ]
  },
  {
   "cell_type": "code",
   "execution_count": 1,
   "metadata": {},
   "outputs": [
    {
     "name": "stdout",
     "output_type": "stream",
     "text": [
      "CUDA Available:  False\n"
     ]
    },
    {
     "data": {
      "text/plain": [
       "Net(\n",
       "  (conv1): Conv2d(1, 10, kernel_size=(5, 5), stride=(1, 1))\n",
       "  (conv2): Conv2d(10, 20, kernel_size=(5, 5), stride=(1, 1))\n",
       "  (conv2_drop): Dropout2d(p=0.5)\n",
       "  (fc1): Linear(in_features=320, out_features=50, bias=True)\n",
       "  (fc2): Linear(in_features=50, out_features=10, bias=True)\n",
       ")"
      ]
     },
     "execution_count": 1,
     "metadata": {},
     "output_type": "execute_result"
    }
   ],
   "source": [
    "# -------------- following contents are fixed ---------------\n",
    "# you have to run this to ensure needed packages are included\n",
    "\n",
    "%matplotlib inline\n",
    "from __future__ import print_function\n",
    "import torch\n",
    "import torch.nn as nn\n",
    "import torch.nn.functional as F\n",
    "import torch.optim as optim\n",
    "from torchvision import datasets, transforms\n",
    "import numpy as np\n",
    "import matplotlib.pyplot as plt\n",
    "\n",
    "\n",
    "# FGSM attack code\n",
    "def fgsm_attack(image, epsilon, data_grad):\n",
    "    # Collect the element-wise sign of the data gradient\n",
    "    sign_data_grad = data_grad.sign()\n",
    "    # Create the perturbed image by adjusting each pixel of the input image\n",
    "    perturbed_image = image + epsilon*sign_data_grad\n",
    "    # Adding clipping to maintain [0,1] range\n",
    "    perturbed_image = torch.clamp(perturbed_image, 0, 1)\n",
    "    # Return the perturbed image\n",
    "    return perturbed_image\n",
    "\n",
    "\n",
    "# LeNet Model definition\n",
    "class Net(nn.Module):\n",
    "    def __init__(self):\n",
    "        super(Net, self).__init__()\n",
    "        self.conv1 = nn.Conv2d(1, 10, kernel_size=5)\n",
    "        self.conv2 = nn.Conv2d(10, 20, kernel_size=5)\n",
    "        self.conv2_drop = nn.Dropout2d()\n",
    "        self.fc1 = nn.Linear(320, 50)\n",
    "        self.fc2 = nn.Linear(50, 10)\n",
    "\n",
    "    def forward(self, x):\n",
    "        x = F.relu(F.max_pool2d(self.conv1(x), 2))\n",
    "        x = F.relu(F.max_pool2d(self.conv2_drop(self.conv2(x)), 2))\n",
    "        x = x.view(-1, 320)\n",
    "        x = F.relu(self.fc1(x))\n",
    "        x = F.dropout(x, training=self.training)\n",
    "        x = self.fc2(x)\n",
    "        return F.log_softmax(x, dim=1)\n",
    "\n",
    "# define trained model path\n",
    "pretrained_model = \"lenet_mnist_model.pth\"\n",
    "use_cuda=True\n",
    "# MNIST Test dataset and dataloader declaration\n",
    "test_dataset = datasets.MNIST('../data', train=False, download=True, transform=transforms.Compose([\n",
    "            transforms.ToTensor(),\n",
    "            ]))\n",
    "test_loader = torch.utils.data.DataLoader(test_dataset, \n",
    "        batch_size=1, shuffle=False)\n",
    "\n",
    "# Define what device we are using\n",
    "print(\"CUDA Available: \", torch.cuda.is_available())\n",
    "device = torch.device(\"cuda\" if (use_cuda and torch.cuda.is_available()) else \"cpu\")\n",
    "\n",
    "# Initialize the network\n",
    "model = Net().to(device)\n",
    "\n",
    "# Load the pretrained model\n",
    "model.load_state_dict(torch.load(pretrained_model, map_location='cpu'))\n",
    "\n",
    "# Set the model in evaluation mode. In this case this is for the Dropout layers\n",
    "model.eval()\n",
    "\n",
    "# -------------- ends preparation ---------------"
   ]
  },
  {
   "cell_type": "markdown",
   "metadata": {},
   "source": [
    "#### Implementation: 1) plot image data\n",
    "Using `matplotlib` to complete the function `plot_img`. The package has been imported as `plt` Test with selected index of a test image. (HINT: using `imshow` function)"
   ]
  },
  {
   "cell_type": "code",
   "execution_count": 2,
   "metadata": {},
   "outputs": [
    {
     "data": {
      "image/png": "[encoded data removed]",
      "text/plain": [
       "<Figure size 432x288 with 1 Axes>"
      ]
     },
     "metadata": {},
     "output_type": "display_data"
    }
   ],
   "source": [
    "def plot_img(image):\n",
    "    \"\"\"\n",
    "    :param image: m x m matrix, assume in gray scale\n",
    "    \"\"\"\n",
    "    # fill your implementation here\n",
    "    # <your implementation>\n",
    "    # end the implementation\n",
    "\n",
    "idx = 1 # test with different index\n",
    "image = test_dataset[idx][0].squeeze() # don't need to modify this\n",
    "plot_img(image)"
   ]
  },
  {
   "cell_type": "markdown",
   "metadata": {},
   "source": [
    "#### Implementation: 2) Complete attacking loop\n",
    "The goal is to get an adversarial sample for selected image. \n",
    "Not all images can have adversary samples.\n",
    "Thus, the attacking loop should go `max_try` as maximum attacking try. \n",
    "After `max_try` times attacking, if we still have not found an adversary, we need to \n",
    "choose another image for experiment. \n",
    "\n",
    "procedure inside the attacking loop goes following:    \n",
    "1) get the output from model with the input image.   \n",
    "2) obtain the loss from output and label, using function `F.nll_loss`    \n",
    "3) using `backward` function of obtained loss to compute gradients, before `backward` operation using `model.zero_grad()` function first, to clean up gradients computed last round.    \n",
    "4) obtain gradients for the input image, via `img_grad = img.grad.data`     \n",
    "5) using input image, gradients of image and epsilon as inputs to `fgsm_attack` function to generate a `modified image`.     \n",
    "6) get output of `modified image` with model, and get the prediction     \n",
    "7) if the prediction on `modified image` changes, attacking ends. otherwise using the `modified image` as base image try again.     \n",
    "8) once found the adversary sample, remember to print it with first function implemented `plot_img`.     \n",
    "\n",
    "**note**: for step 7, it is tricky to assign modified image as origin image for next round, using follow code for assignment: \n",
    "```\n",
    "img = torch.tensor(modified_image.data)\n",
    "img.requires_grad = True\n",
    "```    \n",
    "For step 8, using `modified_image.squeeze().detach()` to get the image data for printing."
   ]
  },
  {
   "cell_type": "code",
   "execution_count": 29,
   "metadata": {},
   "outputs": [],
   "source": [
    "# valid img_idx: 0-9999\n",
    "img_idx = 200 # put the idx of the image, which an adversarial image will be generated for it\n",
    "epsilon = 0.05 # the hyper parameter to control how large the perturbation on the original image\n",
    "max_try = 5000 # the maximiun steps that algorithm should try \n",
    "\n",
    "# data preparation; \n",
    "img, label = test_dataset[img_idx][0].to(device), test_dataset[img_idx][1].to(device)\n",
    "img = img.unsqueeze(0) \n",
    "label = label.unsqueeze(0) \n",
    "# end data preparation \n",
    "\n",
    "# setup the image tensor to require gradient computation\n",
    "img.requires_grad = True\n",
    "output = model(img) # obtain model output, it is a softmax distribution for each label\n",
    "prediction = output.max(1, keepdim=True)[1] # get the largest one as final prediction\n",
    "\n",
    "if prediction.item() != label.item():\n",
    "    print('model makes mistake for selected sample, choose another one')\n",
    "else:\n",
    "    # !! start attacking\n",
    "    # start you implementation\n",
    "    # <your implementation>\n",
    "    # end the implementation"
   ]
  },
  {
   "cell_type": "markdown",
   "metadata": {},
   "source": [
    "#### Implementation: try differernt epsilon at last section\n",
    "Try different `epsilon` values at the previous code block. You should see different outputs. Please conclude what you observed. [Differences in adversarial images, and number of tried steps]"
   ]
  },
  {
   "cell_type": "code",
   "execution_count": 31,
   "metadata": {
    "scrolled": false
   },
   "outputs": [],
   "source": [
    "# <your implementation> : conclusion of observation\n"
   ]
  },
  {
   "cell_type": "markdown",
   "metadata": {},
   "source": [
    "#### Implementation: defense adversary attack with feature squeezing\n",
    "Previous attacking methods add noise on the origin image to generate adversarial. One way to defend against such attacking is *denoising the input image*. In this section, you need to implement the `denoising_func` to accomplish the image data preprocessing, so that the model can produce right prediction result as expected.\n",
    "\n",
    "One way to denoise the image is `feature squeezing`[1]. The main idea is to reduce the precision of the input image. For example, a pixel value in the image is *0.875*(224 scaled to [0,1]), after rounding the value become *1.0*. \n",
    "\n",
    "Referring [this file](https://github.com/mzweilin/EvadeML-Zoo/blob/master/utils/squeeze.py) for function implementation.\n",
    "\n",
    "[1] Xu, Weilin, David Evans, and Yanjun Qi. \"Feature squeezing: Detecting adversarial examples in deep neural networks.\" arXiv preprint arXiv:1704.01155 (2017)."
   ]
  },
  {
   "cell_type": "code",
   "execution_count": null,
   "metadata": {},
   "outputs": [],
   "source": [
    "def denoising_func(image):\n",
    "    \"\"\" \n",
    "    :param image: is a numpy array\n",
    "    \"\"\"\n",
    "    # <your implementation>\n",
    "    \n",
    "# testing with modified image obtained in previous sections\n",
    "denoised_img = denoising_func(modified_image.squeeze().detach().cpu().numpy())\n",
    "denoised_img = torch.tensor(denoised_img).unsqueeze(0).unsqueeze(0)\n",
    "denoised_output = model(denoised_img)\n",
    "denoised_pred = denoised_output.max(1, keepdim=True)[1]\n",
    "print('ground truth label', label.item())\n",
    "print('prediction on denoised image', denoised_pred.item())"
   ]
  },
  {
   "cell_type": "markdown",
   "metadata": {},
   "source": [
    "### Writeup"
   ]
  },
  {
   "cell_type": "markdown",
   "metadata": {},
   "source": [
    "1. How machine learning will change the field you are working on? \n",
    "\n",
    "2. How adversarial machine learning can affect your research area?"
   ]
  },
  {
   "cell_type": "code",
   "execution_count": null,
   "metadata": {},
   "outputs": [],
   "source": [
    "# <your writeup>"
   ]
  }
 ],
 "metadata": {
  "kernelspec": {
   "display_name": "Python 3",
   "language": "python",
   "name": "python3"
  },
  "language_info": {
   "codemirror_mode": {
    "name": "ipython",
    "version": 3
   },
   "file_extension": ".py",
   "mimetype": "text/x-python",
   "name": "python",
   "nbconvert_exporter": "python",
   "pygments_lexer": "ipython3",
   "version": "3.6.5"
  }
 },
 "nbformat": 4,
 "nbformat_minor": 2
}
